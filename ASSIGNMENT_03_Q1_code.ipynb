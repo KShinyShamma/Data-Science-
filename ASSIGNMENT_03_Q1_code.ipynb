{
 "cells": [
  {
   "cell_type": "code",
   "execution_count": 42,
   "id": "8c872b35",
   "metadata": {},
   "outputs": [],
   "source": [
    "import pandas as pd\n",
    "import numpy as np\n",
    "import math\n",
    "from scipy import stats\n",
    "from scipy.stats import norm"
   ]
  },
  {
   "cell_type": "code",
   "execution_count": 43,
   "id": "46975e3c",
   "metadata": {},
   "outputs": [],
   "source": [
    "# Ho: Null Hypothesis: There is difference in the diameter of the cutlet between two units\n",
    "# H1: Alt Hypothesis: There is significant difference in the diameter of the cutlet between two units\n",
    "# ASSUMPTION : CONFIDENCE INTERVAL : 95%"
   ]
  },
  {
   "cell_type": "code",
   "execution_count": 44,
   "id": "1febe3f6",
   "metadata": {},
   "outputs": [],
   "source": [
    "Alp = 0.005"
   ]
  },
  {
   "cell_type": "code",
   "execution_count": 45,
   "id": "38ae49f9",
   "metadata": {},
   "outputs": [],
   "source": [
    "Data = pd.read_csv(\"D:\\ds\\ASSIGNMENTS_SELFPACED\\ASSIGNMENT_03\\Cutlets.csv\")"
   ]
  },
  {
   "cell_type": "code",
   "execution_count": 46,
   "id": "65fb1f29",
   "metadata": {},
   "outputs": [],
   "source": [
    "# here n1 = n2\n",
    "n = 35"
   ]
  },
  {
   "cell_type": "code",
   "execution_count": 47,
   "id": "260af108",
   "metadata": {},
   "outputs": [],
   "source": [
    "unit_1 = Data.UnitA"
   ]
  },
  {
   "cell_type": "code",
   "execution_count": 48,
   "id": "cd802fe1",
   "metadata": {},
   "outputs": [
    {
     "data": {
      "text/plain": [
       "0     6.8090\n",
       "1     6.4376\n",
       "2     6.9157\n",
       "3     7.3012\n",
       "4     7.4488\n",
       "5     7.3871\n",
       "6     6.8755\n",
       "7     7.0621\n",
       "8     6.6840\n",
       "9     6.8236\n",
       "10    7.3930\n",
       "11    7.5169\n",
       "12    6.9246\n",
       "13    6.9256\n",
       "14    6.5797\n",
       "15    6.8394\n",
       "16    6.5970\n",
       "17    7.2705\n",
       "18    7.2828\n",
       "19    7.3495\n",
       "20    6.9438\n",
       "21    7.1560\n",
       "22    6.5341\n",
       "23    7.2854\n",
       "24    6.9952\n",
       "25    6.8568\n",
       "26    7.2163\n",
       "27    6.6801\n",
       "28    6.9431\n",
       "29    7.0852\n",
       "30    6.7794\n",
       "31    7.2783\n",
       "32    7.1561\n",
       "33    7.3943\n",
       "34    6.9405\n",
       "Name: UnitA, dtype: float64"
      ]
     },
     "execution_count": 48,
     "metadata": {},
     "output_type": "execute_result"
    }
   ],
   "source": [
    "unit_1"
   ]
  },
  {
   "cell_type": "code",
   "execution_count": 49,
   "id": "62418127",
   "metadata": {},
   "outputs": [
    {
     "data": {
      "text/plain": [
       "0     6.7703\n",
       "1     7.5093\n",
       "2     6.7300\n",
       "3     6.7878\n",
       "4     7.1522\n",
       "5     6.8110\n",
       "6     7.2212\n",
       "7     6.6606\n",
       "8     7.2402\n",
       "9     7.0503\n",
       "10    6.8810\n",
       "11    7.4059\n",
       "12    6.7652\n",
       "13    6.0380\n",
       "14    7.1581\n",
       "15    7.0240\n",
       "16    6.6672\n",
       "17    7.4314\n",
       "18    7.3070\n",
       "19    6.7478\n",
       "20    6.8889\n",
       "21    7.4220\n",
       "22    6.5217\n",
       "23    7.1688\n",
       "24    6.7594\n",
       "25    6.9399\n",
       "26    7.0133\n",
       "27    6.9182\n",
       "28    6.3346\n",
       "29    7.5459\n",
       "30    7.0992\n",
       "31    7.1180\n",
       "32    6.6965\n",
       "33    6.5780\n",
       "34    7.3875\n",
       "Name: UnitB, dtype: float64"
      ]
     },
     "execution_count": 49,
     "metadata": {},
     "output_type": "execute_result"
    }
   ],
   "source": [
    "unit_2 = Data.UnitB\n",
    "unit_2"
   ]
  },
  {
   "cell_type": "code",
   "execution_count": 50,
   "id": "ada8bd6e",
   "metadata": {},
   "outputs": [
    {
     "data": {
      "text/plain": [
       "7.01909142857143"
      ]
     },
     "execution_count": 50,
     "metadata": {},
     "output_type": "execute_result"
    }
   ],
   "source": [
    "#MEAN OF UNIT A\n",
    "X1_bar = unit_1.mean()\n",
    "X1_bar"
   ]
  },
  {
   "cell_type": "code",
   "execution_count": 51,
   "id": "8dfd96b1",
   "metadata": {},
   "outputs": [
    {
     "data": {
      "text/plain": [
       "0.2884084841815496"
      ]
     },
     "execution_count": 51,
     "metadata": {},
     "output_type": "execute_result"
    }
   ],
   "source": [
    "#STD of UNIT A\n",
    "s1 = unit_1.std()\n",
    "s1"
   ]
  },
  {
   "cell_type": "code",
   "execution_count": 52,
   "id": "eb46162e",
   "metadata": {},
   "outputs": [
    {
     "data": {
      "text/plain": [
       "6.964297142857142"
      ]
     },
     "execution_count": 52,
     "metadata": {},
     "output_type": "execute_result"
    }
   ],
   "source": [
    "#MEAN OF UNIT B\n",
    "X2_bar = unit_2.mean()\n",
    "X2_bar"
   ]
  },
  {
   "cell_type": "code",
   "execution_count": 53,
   "id": "61080f00",
   "metadata": {},
   "outputs": [
    {
     "data": {
      "text/plain": [
       "0.343400647063108"
      ]
     },
     "execution_count": 53,
     "metadata": {},
     "output_type": "execute_result"
    }
   ],
   "source": [
    "#STD of UNIT B\n",
    "s2 = unit_2.std()\n",
    "s2"
   ]
  },
  {
   "cell_type": "code",
   "execution_count": 54,
   "id": "dd50be6c",
   "metadata": {},
   "outputs": [
    {
     "data": {
      "text/plain": [
       "0.054794285714288016"
      ]
     },
     "execution_count": 54,
     "metadata": {},
     "output_type": "execute_result"
    }
   ],
   "source": [
    "# DIFFERENCE IN MEAN\n",
    "X_diff = X1_bar-X2_bar\n",
    "X_diff"
   ]
  },
  {
   "cell_type": "code",
   "execution_count": 55,
   "id": "e45b8153",
   "metadata": {},
   "outputs": [
    {
     "data": {
      "text/plain": [
       "0.31709892632367936"
      ]
     },
     "execution_count": 55,
     "metadata": {},
     "output_type": "execute_result"
    }
   ],
   "source": [
    "#pooled STD\n",
    "a = (n-1)*s1*s1\n",
    "b = (n-1)*s2*s2\n",
    "std_pool = math.sqrt((a+b)/(n+n-2))\n",
    "std_pool"
   ]
  },
  {
   "cell_type": "code",
   "execution_count": 57,
   "id": "b22b7a9a",
   "metadata": {},
   "outputs": [],
   "source": [
    "# degree of freedom\n",
    "df = n+n-2"
   ]
  },
  {
   "cell_type": "code",
   "execution_count": 64,
   "id": "18ba48a6",
   "metadata": {},
   "outputs": [
    {
     "data": {
      "text/plain": [
       "0.7228688704678297"
      ]
     },
     "execution_count": 64,
     "metadata": {},
     "output_type": "execute_result"
    }
   ],
   "source": [
    "#calculate t_statistical value:\n",
    "t_stat = X_diff/(std_pool*math.sqrt(2/n))\n",
    "t_stat"
   ]
  },
  {
   "cell_type": "code",
   "execution_count": 65,
   "id": "b58a3f03",
   "metadata": {},
   "outputs": [
    {
     "data": {
      "text/plain": [
       "1.9954689309194018"
      ]
     },
     "execution_count": 65,
     "metadata": {},
     "output_type": "execute_result"
    }
   ],
   "source": [
    "#calculate t_critical value:\n",
    "t_c = stats.t.ppf(0.975,df)\n",
    "t_c"
   ]
  },
  {
   "cell_type": "code",
   "execution_count": null,
   "id": "111bd575",
   "metadata": {},
   "outputs": [],
   "source": [
    "#t_c > t_stat = Accept null hypothesis "
   ]
  }
 ],
 "metadata": {
  "kernelspec": {
   "display_name": "Python 3 (ipykernel)",
   "language": "python",
   "name": "python3"
  },
  "language_info": {
   "codemirror_mode": {
    "name": "ipython",
    "version": 3
   },
   "file_extension": ".py",
   "mimetype": "text/x-python",
   "name": "python",
   "nbconvert_exporter": "python",
   "pygments_lexer": "ipython3",
   "version": "3.9.13"
  }
 },
 "nbformat": 4,
 "nbformat_minor": 5
}
